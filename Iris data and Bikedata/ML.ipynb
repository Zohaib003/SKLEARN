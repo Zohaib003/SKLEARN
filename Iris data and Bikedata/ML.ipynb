{
  "nbformat": 4,
  "nbformat_minor": 0,
  "metadata": {
    "colab": {
      "name": "homeWork-1.ipynb",
      "provenance": [],
      "collapsed_sections": []
    },
    "kernelspec": {
      "name": "python3",
      "display_name": "Python 3"
    },
    "language_info": {
      "name": "python"
    }
  },
  "cells": [
    {
      "cell_type": "markdown",
      "source": [
        "Name : Muhammad Zohaib Aslam Khan   <br> \n",
        "## RollNO : BSCS2019-57"
      ],
      "metadata": {
        "id": "fCkh-tg0LEC5"
      }
    },
    {
      "cell_type": "markdown",
      "source": [
        "##Problem No. 1 Try the following code snippet in Python:<br>\n",
        " import sklearn.datasets as datasets<br>\n",
        " from matplotlib import pyplot as plt<br>\n",
        " iris=datasets.load_iris()<br>\n"
      ],
      "metadata": {
        "id": "g9ArODa968Gd"
      }
    },
    {
      "cell_type": "code",
      "execution_count": 186,
      "metadata": {
        "colab": {
          "base_uri": "https://localhost:8080/",
          "height": 0
        },
        "id": "UxFPgs_56fVT",
        "outputId": "9bf5146f-8ccb-49f1-8de1-a9ba78f6af4c"
      },
      "outputs": [
        {
          "output_type": "execute_result",
          "data": {
            "text/plain": [
              "['sepal length (cm)',\n",
              " 'sepal width (cm)',\n",
              " 'petal length (cm)',\n",
              " 'petal width (cm)']"
            ]
          },
          "metadata": {},
          "execution_count": 186
        }
      ],
      "source": [
        "import pandas as pd\n",
        "import sklearn.datasets as datasets\n",
        "from matplotlib import pyplot as plt\n",
        "iris=datasets.load_iris()\n",
        "iris.feature_names"
      ]
    },
    {
      "cell_type": "markdown",
      "source": [
        "##***a)*\tWrite code to print number of rows in iris? Also, write the obtained output?**"
      ],
      "metadata": {
        "id": "6EwvCMNm6xXb"
      }
    },
    {
      "cell_type": "code",
      "source": [
        "iris_dataframe = pd.DataFrame(data=iris.data,columns=iris.feature_names,)\n",
        "print(\"Numbers of rows in iris data are :\",iris_dataframe.shape[0])"
      ],
      "metadata": {
        "id": "wX3NpKgM6v6N",
        "colab": {
          "base_uri": "https://localhost:8080/",
          "height": 0
        },
        "outputId": "83292c69-b24d-419a-88d7-a99cf7265f93"
      },
      "execution_count": 187,
      "outputs": [
        {
          "output_type": "stream",
          "name": "stdout",
          "text": [
            "Numbers of rows in iris data are : 150\n"
          ]
        }
      ]
    },
    {
      "cell_type": "markdown",
      "source": [
        "##***b)*\tWrite code to print number of columns in iris? Also, write the obtained output?**"
      ],
      "metadata": {
        "id": "ptzHg0Xr98eh"
      }
    },
    {
      "cell_type": "code",
      "source": [
        "print(\"Numbers of columns in iris data are :\",iris_dataframe.shape[1])"
      ],
      "metadata": {
        "id": "Z3VSTDJY-FWR",
        "colab": {
          "base_uri": "https://localhost:8080/",
          "height": 0
        },
        "outputId": "7d109d32-b297-4552-de59-4505f6e8beb0"
      },
      "execution_count": 188,
      "outputs": [
        {
          "output_type": "stream",
          "name": "stdout",
          "text": [
            "Numbers of columns in iris data are : 4\n"
          ]
        }
      ]
    },
    {
      "cell_type": "markdown",
      "source": [
        "##***c)*\tWrite code to plot the relationship between any two columns of your choice? Also, show the output.**\n",
        "_______________________________________________________________________"
      ],
      "metadata": {
        "id": "gDumOa_B-QBo"
      }
    },
    {
      "cell_type": "code",
      "source": [
        "column_1 = iris_dataframe[\"petal length (cm)\"]\n",
        "column_2 = iris_dataframe[\"petal width (cm)\"]\n",
        "corelation = column_1.corr(column_2)\n",
        "print(\"corelation between petal length (cm) and petal width (cm) is : \",corelation)"
      ],
      "metadata": {
        "colab": {
          "base_uri": "https://localhost:8080/",
          "height": 0
        },
        "id": "LrBvTEiP-Ytl",
        "outputId": "59325e2b-0fb2-42b8-a41b-8cdfb8cb37d3"
      },
      "execution_count": 189,
      "outputs": [
        {
          "output_type": "stream",
          "name": "stdout",
          "text": [
            "corelation between petal length (cm) and petal width (cm) is :  0.9628654314027961\n"
          ]
        }
      ]
    },
    {
      "cell_type": "markdown",
      "source": [
        "##***d)*\tIf we have to use single-variable regression to output “petal width”, which of the columns will serve as the best input and why?**\n",
        "# Answer\n",
        "we will find corelation with all columns, the column with high positive corelation will be best choice.<br>\n",
        "sepal lenth : 0.8179411262715757<br>\n",
        "petal length : 0.9628654314027961<br>\n",
        "sepal width : -0.36612593253643927<br>\n",
        "**we will use \"petal length\" for petal width**\n",
        "__________________________________________________________________"
      ],
      "metadata": {
        "id": "wdaPFH59CeJ7"
      }
    },
    {
      "cell_type": "code",
      "source": [
        "slength = iris_dataframe[\"sepal length (cm)\"]\n",
        "swidth = iris_dataframe[\"sepal width (cm)\"]\n",
        "plength = iris_dataframe[\"petal length (cm)\"]\n",
        "print(\"sepal lenth :\",slength.corr(iris_dataframe['petal width (cm)']))\n",
        "print(\"petal length :\",plength.corr(iris_dataframe['petal width (cm)']))\n",
        "print(\"sepal width :\",swidth.corr(iris_dataframe['petal width (cm)']))\n",
        "\n",
        "print('''\\nwe will use \"petal length\" for petal width''')"
      ],
      "metadata": {
        "colab": {
          "base_uri": "https://localhost:8080/",
          "height": 0
        },
        "id": "qsDyUlJcCqyP",
        "outputId": "b7475634-92a5-4b9e-8325-51bf0bfee311"
      },
      "execution_count": 190,
      "outputs": [
        {
          "output_type": "stream",
          "name": "stdout",
          "text": [
            "sepal lenth : 0.8179411262715757\n",
            "petal length : 0.9628654314027961\n",
            "sepal width : -0.36612593253643927\n",
            "\n",
            "we will use \"petal length\" for petal width\n"
          ]
        }
      ]
    },
    {
      "cell_type": "markdown",
      "source": [
        "\n",
        "\n",
        "---\n",
        "\n",
        "\n",
        "# Problem No. 2\n",
        "Download the data “hour.csv” from the LMS (uploaded with this homework). Explore the data. Brief description of the data is given below to understand the problem domain:\n",
        "###\n",
        "Bike sharing systems are new generation of traditional bike rentals where whole process from membership, rental and return back has become automatic. Through these systems, user is able to easily rent a bike from a particular position and return back at another position. Currently, there are about over 500 bike-sharing programs around the world which is composed of over 500 thousands bicycles. Today, there exists great interest in these systems due to their important role in traffic, environmental and health issues. The current dataset contains the following attributes:\n",
        "- instant: record index\n",
        "- dteday : date\n",
        "- season : season (1:winter, 2:spring, 3:summer, 4:fall)\n",
        "- yr : year (0: 2011, 1:2012)\n",
        "- mnth : month ( 1 to 12)\n",
        "- hr : hour (0 to 23)\n",
        "- holiday : weather day is holiday or not (extracted from [Web Link])\n",
        "- weekday : day of the week\n",
        "- workingday : if day is neither weekend nor holiday is 1, otherwise is 0.\n",
        "+ weathersit :\n",
        "- 1: Clear, Few clouds, Partly cloudy, Partly cloudy\n",
        "- 2: Mist + Cloudy, Mist + Broken clouds, Mist + Few clouds, Mist\n",
        "- 3: Light Snow, Light Rain + Thunderstorm + Scattered clouds, Light Rain + Scattered clouds\n",
        "- 4: Heavy Rain + Ice Pallets + Thunderstorm + Mist, Snow + Fog\n",
        "- temp : Normalized temperature in Celsius. The values are derived via (t-t_min)/(t_max-t_min), t_min=-8, t_max=+39 (only in hourly scale)\n",
        "- atemp: Normalized feeling temperature in Celsius. The values are derived via (t-t_min)/(t_max-t_min), t_min=-16, t_max=+50 (only in hourly scale)\n",
        "- hum: Normalized humidity. The values are divided to 100 (max)\n",
        "- windspeed: Normalized wind speed. The values are divided to 67 (max)\n",
        "- casual: count of casual users\n",
        "- registered: count of registered users\n",
        "- cnt: count of total rental bikes including both casual and registered \n",
        "____________________________________________________________________________"
      ],
      "metadata": {
        "id": "ImB2SJDYKcnv"
      }
    },
    {
      "cell_type": "markdown",
      "source": [
        "##***a)*\tWrite code to check missing values in the data and repair them with appropriate measure.**\n",
        "# Answer\n",
        "No null values in data frame"
      ],
      "metadata": {
        "id": "lz9xnHdbKsUU"
      }
    },
    {
      "cell_type": "code",
      "source": [
        "bike_dataframe = pd.read_csv(\"hour.csv\")\n",
        "target = bike_dataframe['cnt']\n",
        "bike_dataframe = bike_dataframe.loc[:,bike_dataframe.columns != \"cnt\"]\n",
        "print(\"Null values are : \",bike_dataframe.isnull().sum(axis=0),\"\\n\")"
      ],
      "metadata": {
        "id": "dfrXedD5Kr8c",
        "colab": {
          "base_uri": "https://localhost:8080/",
          "height": 0
        },
        "outputId": "6227f20e-eae9-4711-961f-868c03353a09"
      },
      "execution_count": 192,
      "outputs": [
        {
          "output_type": "stream",
          "name": "stdout",
          "text": [
            "Null values are :  instant       0\n",
            "dteday        0\n",
            "season        0\n",
            "yr            0\n",
            "mnth          0\n",
            "hr            0\n",
            "holiday       0\n",
            "weekday       0\n",
            "workingday    0\n",
            "weathersit    0\n",
            "temp          0\n",
            "atemp         0\n",
            "hum           0\n",
            "windspeed     0\n",
            "casual        0\n",
            "registered    0\n",
            "dtype: int64 \n",
            "\n"
          ]
        }
      ]
    },
    {
      "cell_type": "markdown",
      "source": [
        "##***b)*\tWrite code to check and remove noise in the data.**\n",
        "# Answer\n",
        "1. There is no need for type casting because all data have same datatype in respective column. \n",
        "2. There are no duplicate values in data.\n"
      ],
      "metadata": {
        "id": "d578V2GtrR9k"
      }
    },
    {
      "cell_type": "code",
      "source": [
        "print(\"Duplicate values are\",bike_dataframe.duplicated().sum(),\"\\n\")\n",
        "print(bike_dataframe.dtypes)"
      ],
      "metadata": {
        "colab": {
          "base_uri": "https://localhost:8080/",
          "height": 0
        },
        "id": "13e0XRotrbDj",
        "outputId": "f74b2cc1-be94-4c29-d22e-26ae34845070"
      },
      "execution_count": 193,
      "outputs": [
        {
          "output_type": "stream",
          "name": "stdout",
          "text": [
            "Duplicate values are 0 \n",
            "\n",
            "instant         int64\n",
            "dteday         object\n",
            "season          int64\n",
            "yr              int64\n",
            "mnth            int64\n",
            "hr              int64\n",
            "holiday         int64\n",
            "weekday         int64\n",
            "workingday      int64\n",
            "weathersit      int64\n",
            "temp          float64\n",
            "atemp         float64\n",
            "hum           float64\n",
            "windspeed     float64\n",
            "casual          int64\n",
            "registered      int64\n",
            "dtype: object\n"
          ]
        }
      ]
    },
    {
      "cell_type": "markdown",
      "source": [
        "\n",
        "\n",
        "---\n",
        "\n",
        "\n",
        "##***c)* Write code to check whether any normalization is required. Apply appropriate normalization method where required.**\n",
        "# Answer \n",
        "1. We will remove some columns beacuse they dont reaaly affect our target variable. i.e \"instant\" & \"dteday\"<br>\n",
        "  __ **instant** : instant of data<br>\n",
        "  __ **dteday** : date not important for us.(for PCA, normalization is important and this object canot normalize or other statics problem)\n",
        "\n",
        "\n",
        "\n",
        "\n"
      ],
      "metadata": {
        "id": "UEKtW2Fx4BZ4"
      }
    },
    {
      "cell_type": "code",
      "source": [
        "bike_dataframe.drop(columns = [\"instant\",\"dteday\"],inplace=True)\n"
      ],
      "metadata": {
        "id": "C1QUT7FCOTQe"
      },
      "execution_count": 194,
      "outputs": []
    },
    {
      "cell_type": "code",
      "source": [
        "#statics of data \n",
        "print(bike_dataframe.describe())"
      ],
      "metadata": {
        "colab": {
          "base_uri": "https://localhost:8080/",
          "height": 0
        },
        "id": "KEXRfKE3Qtae",
        "outputId": "7a9f6322-accc-4c53-aa28-069f1f0724ef"
      },
      "execution_count": 195,
      "outputs": [
        {
          "output_type": "stream",
          "name": "stdout",
          "text": [
            "             season            yr          mnth            hr       holiday  \\\n",
            "count  17379.000000  17379.000000  17379.000000  17379.000000  17379.000000   \n",
            "mean       2.501640      0.502561      6.537775     11.546752      0.028770   \n",
            "std        1.106918      0.500008      3.438776      6.914405      0.167165   \n",
            "min        1.000000      0.000000      1.000000      0.000000      0.000000   \n",
            "25%        2.000000      0.000000      4.000000      6.000000      0.000000   \n",
            "50%        3.000000      1.000000      7.000000     12.000000      0.000000   \n",
            "75%        3.000000      1.000000     10.000000     18.000000      0.000000   \n",
            "max        4.000000      1.000000     12.000000     23.000000      1.000000   \n",
            "\n",
            "            weekday    workingday    weathersit          temp         atemp  \\\n",
            "count  17379.000000  17379.000000  17379.000000  17379.000000  17379.000000   \n",
            "mean       3.003683      0.682721      1.425283      0.496987      0.475775   \n",
            "std        2.005771      0.465431      0.639357      0.192556      0.171850   \n",
            "min        0.000000      0.000000      1.000000      0.020000      0.000000   \n",
            "25%        1.000000      0.000000      1.000000      0.340000      0.333300   \n",
            "50%        3.000000      1.000000      1.000000      0.500000      0.484800   \n",
            "75%        5.000000      1.000000      2.000000      0.660000      0.621200   \n",
            "max        6.000000      1.000000      4.000000      1.000000      1.000000   \n",
            "\n",
            "                hum     windspeed        casual    registered  \n",
            "count  17379.000000  17379.000000  17379.000000  17379.000000  \n",
            "mean       0.627229      0.190098     35.676218    153.786869  \n",
            "std        0.192930      0.122340     49.305030    151.357286  \n",
            "min        0.000000      0.000000      0.000000      0.000000  \n",
            "25%        0.480000      0.104500      4.000000     34.000000  \n",
            "50%        0.630000      0.194000     17.000000    115.000000  \n",
            "75%        0.780000      0.253700     48.000000    220.000000  \n",
            "max        1.000000      0.850700    367.000000    886.000000  \n"
          ]
        }
      ]
    },
    {
      "cell_type": "markdown",
      "source": [
        "*** we cant normalize target column.***<br>\n",
        "***After Analysing data statics,***<br>\n",
        "we scaled our data by Z-score normalization.\n",
        "Z-score normalization means centering the variable at zero and standardizing the variance at 1. The procedure involves subtracting the mean of each observation and then dividing by the standard deviation.<br>\n",
        " <center>***New value = (x – μ) / σ***</center>\n",
        "<br>\n",
        "Some of columns have to be normalized because they have diffrent ranges. for example \"casual\" and \"registered\" there ranges are very difrrent from others. Others columns range lies btw 0 -> 10 (mostly lies within 5), but \"casual\" and \"registerd\" lie in (0 -> 367) and (0 -> 886) respectively.<br>\n",
        "So we will normalize these columns to make values in data on common scale.Reason for this is, when we do further analysis like linear regression, for example, the attributed income will intrinsically influence the result more due to its larger value.<br>\n",
        "For Normalization we will use MinMaxScaler.<br><center>\n",
        "![minmax.png](data:image/png;base64,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)</center>"
      ],
      "metadata": {
        "id": "6IaSAm98Q9gy"
      }
    },
    {
      "cell_type": "code",
      "source": [
        "from sklearn.preprocessing import StandardScaler\n",
        "stdscaler = StandardScaler() \n",
        "bike_dataframe_scaled = stdscaler.fit_transform(bike_dataframe)\n",
        "print(bike_dataframe_scaled.mean(axis=0))\n",
        "print(bike_dataframe_scaled.std(axis=0))"
      ],
      "metadata": {
        "colab": {
          "base_uri": "https://localhost:8080/",
          "height": 0
        },
        "id": "OKBdgoK1XA4S",
        "outputId": "58890e34-a971-49ef-8937-9d3581735129"
      },
      "execution_count": 196,
      "outputs": [
        {
          "output_type": "stream",
          "name": "stdout",
          "text": [
            "[-1.43915670e-16  2.68206476e-16  0.00000000e+00 -7.45642623e-17\n",
            " -4.17028362e-17  1.36760772e-16  5.23329709e-17 -2.45310801e-17\n",
            "  1.56998913e-16 -1.83165398e-16 -3.07456204e-16  1.53728102e-16\n",
            "  2.28956748e-17 -3.92497282e-17]\n",
            "[1. 1. 1. 1. 1. 1. 1. 1. 1. 1. 1. 1. 1. 1.]\n"
          ]
        }
      ]
    },
    {
      "cell_type": "code",
      "source": [
        "from sklearn.preprocessing import MinMaxScaler\n",
        "minMax = MinMaxScaler() \n",
        "bike_dataframe_scaled = minMax.fit_transform(bike_dataframe_scaled)\n",
        "print(\"mean:\")\n",
        "print(bike_dataframe_scaled.std(axis=0),\"\\n\")\n",
        "print(\"std:\")\n",
        "print(bike_dataframe_scaled.mean(axis=0))"
      ],
      "metadata": {
        "colab": {
          "base_uri": "https://localhost:8080/",
          "height": 0
        },
        "id": "MrYPv4Q028X1",
        "outputId": "927a543e-e032-42a9-ce02-794dea7a4ca7"
      },
      "execution_count": 197,
      "outputs": [
        {
          "output_type": "stream",
          "name": "stdout",
          "text": [
            "mean:\n",
            "[0.3689621  0.49999344 0.31260698 0.30061766 0.16716047 0.33428562\n",
            " 0.46541724 0.21311283 0.19648018 0.17184527 0.19292428 0.14380711\n",
            " 0.13434227 0.17082724] \n",
            "\n",
            "std:\n",
            "[0.50054664 0.50256056 0.50343413 0.50203269 0.02877036 0.50061377\n",
            " 0.68272052 0.14176113 0.4867216  0.4757751  0.62722884 0.22346022\n",
            " 0.0972104  0.17357434]\n"
          ]
        }
      ]
    },
    {
      "cell_type": "markdown",
      "source": [
        "\n",
        "\n",
        "---\n",
        "##***d)*\tWrite to code to predict the output variable using linear regression. How good is your result? Plot the result. <br>**\n",
        "# Answer\n",
        "We will use sklearn.-\n"
      ],
      "metadata": {
        "id": "IU03-MUhaIVK"
      }
    },
    {
      "cell_type": "markdown",
      "source": [
        ""
      ],
      "metadata": {
        "id": "ipylPnVR37M1"
      }
    },
    {
      "cell_type": "code",
      "source": [
        "from sklearn.linear_model import LinearRegression\n",
        "from sklearn.model_selection import train_test_split\n",
        "x_train,x_test,y_train,y_test = train_test_split(bike_dataframe_scaled,target,test_size=0.2)\n",
        "model = LinearRegression()\n",
        "model.fit(x_train , y_train)\n",
        "y_pred = model.predict(x_test)\n",
        "# print(y_pred)\n",
        "# print(y_test)\n",
        "print(\"\\nscore is \",model.score(x_test,y_test))"
      ],
      "metadata": {
        "colab": {
          "base_uri": "https://localhost:8080/",
          "height": 0
        },
        "id": "dY8-reDfanNP",
        "outputId": "2db5bfb8-c302-4376-a66b-16c6ad34e9f5"
      },
      "execution_count": 198,
      "outputs": [
        {
          "output_type": "stream",
          "name": "stdout",
          "text": [
            "\n",
            "score is  1.0\n"
          ]
        }
      ]
    },
    {
      "cell_type": "code",
      "source": [
        "from matplotlib import pyplot as plt\n",
        "plt.scatter(y_test,y_pred)\n",
        "plt.show()"
      ],
      "metadata": {
        "id": "2b6zry5brR_r"
      },
      "execution_count": null,
      "outputs": []
    },
    {
      "cell_type": "markdown",
      "source": [
        "<cente>![image.png](data:image/png;base64,iVBORw0KGgoAAAANSUhEUgAAAXcAAAD4CAYAAAAXUaZHAAAUgklEQVR4nO3df5BdZX3H8ffN5neM5EeXTAhJN5oMjlYFcSRMOh0GmoLxR9CiqEGjQ2WmVStio4nJFJkhFYrlh6NDC1IHNJVApJfUUDMpyh9lSGzixkSElCAQcgWyCIkOxJLE7R/Ps9nNZjd77rnn/jrn/Zo5s/ece0722ZO7nzz5nuc8ByRJkiRJkiRJkiRJkqSiKDW7AQDTp0/v7erqanYzJKmtbN++/UWgc6j3Rje4LUPq6upi27ZtzW6GJLWVUqn0zHDvjWpkQyRJjWG4S1IOGe6SlEOGuyTlkOEuSTnUEqNlJKloyt0Vbti0m18fOMRpUyaw/MIzuPisWZn9+Ya7JDVYubvCyvt2cejwUQAqBw6x8r5dAJkFvGUZSWqwGzbtPhbsfQ4dPsoNm3Zn9j3suUtSAwwsw/QOs8+vDxzK7PsZ7pJUZ4PLMMM5bcqEzL6nZRlJqrOhyjCDTRjTwfILz8jse9pzl6SMDR4JUzlJuaUEjpaRpFZW7q7w1Q2PcuDQ4WPbKgcOUYIh6+yzpkzg4RXn16UthrskZeBkdfVeOCHgsy7DDGbNXZIyMFJdvZfQUy/Fr1/74FszLcMMZs9dkjIw0jDGepZghmLPXZIycLJhjPUuwQzFcJekDCy/8AwmjOk4YfvUiWPqXoIZimUZSRrB4FEwUyeO4er3veW4wO57Xc/JwKphuEvSSZS7Kyy/9+cc/kP/WJeXXz3M8vU/Bzgh4JsV5oNZlpGkYZS7K3zxnuODvc/ho72ZTvSVNcNdkobQN279aO9w03xlO9FX1izLSFK0uryLtVv2Djtr42BZTvSVNcNdkgjB/r0texPvP6aj1PDhjdUw3CUVXrm7UlWwDzVaptUY7pIKra8Uk8SEMR1NGbOehuEuqbDK3ZXENfZZTR63Xi3DXVJhDL4ZaVRp6Kl4B+oYVeKfPvT2tgn1Poa7pEJYdONDPLH/leO2DTF8/TiTxnaw5gPtUYYZzHCXlGvl7gpXrdvBH6o4pgTcdOmZbRnqfZLexPQF4FHgF8D3gfHAXGArsAdYB4yN+46L63vi+10ZtleSElt6+yNcmSLYly6Y09bBDsnCfRbwt8A7gT8BOoCPANcDNwHzgJeBy+P+l8f1efH967NtsiSNbHV5Fw8/+VKifTtKpWMP0bjp0jO59uK31rdxDZC0LDMamAAcBiYCzwHnAx+L798JfBW4FVgSXwOsB77JiU+YkqS6WF3exfe3PnvSaQMGGtNR4oZL2u+C6UiS9NwrwNeBvYRQPwhsBw4AR+I++wg9fOLXZ+PrI3H/6UP8uVcA24BtPT09adouScfpu8s0abCPglwGOyTruU8l9MbnEgL9XuCiDL73bXGhs7PTXr2k1Jbe/kjiEkyf+adOYvNV59WpRc2XpOf+58BTQA+hLHMfsBCYQv8/DqcTevjEr7Pj69HAKcBvMmqvJB0nTbBftmBOroMdkoX7XmABodZeAi4Afgn8BLgk7rMMuD++3hDXie//GOvtkuqg3F2pKtgnjBnFzTm5YDqSJGWZrYQLoz8j1NC7CeWUjcDdwLVx2x1x/zuA7xKGQr5EGFkjSZkZfKfpSC5bMKcQgT5QqdkNADj77LN7t23b1uxmSGoDfQ/ROHT46Ij7dpRKfPSc2bkN9lKptJ0wTP0E3qEqqa3csGl3omBf+MZprP30uQ1oUWsy3CW1tHJ3hRs27ebXBw5x2pQJVBI82q7owQ6Gu6QWNdQomMqBQye9I7Kd5luvNx+QLanlnGx4Yy9DXyycOnGMwT6APXdJLSPpc0x7CfPA9JVq2ukhGo1iuEtqCdXcjDRrygQeXnF+nVvU3gx3SU1V7q6w6t938cprI4+AgVBXX37hGXVuVfsz3CU1TdIyTJ9xo0dZV0/IcJfUcOXuCl+5byevHk7+GA2HN1bHcJfUUNX21qGY0wfUynCX1BBDPaA6CYM9HcNdUt2ds2YzL/zutaqOMdRrY7hLqpswyddODlVRWweDPQuGu6S6SPMQjYljRvEPH3ybo2EyYLhLytzq8q6qgn3S2A7WfMAhjlky3CVlIs0oGLAEUy+Gu6SapblgWgJuuvRMe+t1YrhLSi1NXR3srTeC4S4plTTj1seNHsX1f+kF00Yw3CVVJc3UAXl/lmkrMtwlJZamt+6cMM1huEsaUbm7wpXrdlR93IzJYw32JjHcJQ2r3F1h+b07qPIGU8CLps1muEsaUtqJvmZMHsvWVYvq0CJVw3CXdJy0JRiwt95KDHdJx6S5GWn0qBJf/9DbHd7YYgx3SQC87eof8dv/S/Yc0z6vH9fBzmsuqlOLVItRzW6ApOZbevsjVQf7wjdOM9hbmD13qaDK3RWu+Y9HefnVw1UdZ129PRjuUgGlqa1bgmkvhrtUIGmn5Z1/6iQ2X3VeHVqkejHcpYJIO279ZqflbUuGu5RzaafldU6Y9ma4SzmWprY+deIYrn7fW+ytt7mkQyGnAOuBx4HHgHOBacBm4In4dWrctwR8A9gD7ATekWF7JSVQ7q7whhUbqw72yxbMofvv/8Jgz4GkPfdbgB8BlwBjgYnAV4AHgeuAFXH5MvBuYH5czgFujV8l1dnq8i7WbtlLb4pjra3nS5JwPwX4M+CTcf21uCwB+i6f3wk8RAj3JcBdQC+whdDrnwk8l1mrJZ0gTQkGrK3nVZJwnwv0AN8B3g5sBz4PzKA/sJ+P6wCzgGcHHL8vbjPcpTpIO9GX49bzLUm4jybUzT8HbCWUaFYM2qc3LtW4Ii709PRUeagkSN9bd9x6/iUJ931x2RrX1xPC/QX6yy0zgf3x/Qowe8Dxp8dtg90WFzo7O9OUCKXC8mYkjSRJuD9PKLOcAewGLgB+GZdlhAuqy4D74/4bgM8CdxMupB7EkoyUibShXgKWOidMoSQdLfM5YC1hpMyvgE8RhlHeA1wOPAN8OO77ALCYMBTy1bivpBqlmZIXnOirqJKG+w7gnUNsv2CIbb3AZ1K3SNJxyt0VvrBuh8MbVRXvUJVaWNoLpgBPX/eejFujdmK4Sy0o7SRf4Lh1BYa71GLetOoBfn+0+iKMoa6BDHepRaS9GWnG5LFsXbWoDi1SOzPcpRaQtrbuSBgNx3CXmihtb90SjEZiuEtNkra37vBGJWG4Sw2W9slITvSlahjuUoOknToArK2reoa71ABpe+uOhFFahrtUR2lDHaytqzaGu1QnaSf6srauLBjuUsbSTh1gCUZZMtylDM1dsTHV7I0+RENZM9ylDNRSW/eGJNWD4S7VqGvFxlTHGeqqp1HNboDUrsrdldTBftmCOQa76sqeu5RC2pEwDm9UoxjuUhVqucvUYFcjGe5SArWEuiNh1AyGuzSCtCUY8Dmmah7DXRqGvXW1M8NdGsK8lRs5kuJupPEdJR5fszj7BklVMtylAWopwTgtr1qJ4S5FacesW4JRKzLcJdIHu8Mb1aoMdxVa2ueYWltXqzPcVVi1TB1gbV2tznBX4aQd4uhDNNRODHcVRtoSDNhbV/sx3FUITsurojHclWu13GXq1AFqZ4a7csveuorMcFfu1PLIO3vrygvDXbniXaZSUE24dwDbgArwXmAucDcwHdgOfBx4DRgH3AWcDfwGuBR4OrsmSydKOyeMwxuVV9U8Q/XzwGMD1q8HbgLmAS8Dl8ftl8f1efH962tvpjS0vueYpgn2yxbMMdiVW0l77qcD7wHWAFcBJeB84GPx/TuBrwK3Akvia4D1wDfj/ikmUJWGZ21dGl7ScL8Z+BIwOa5PBw4AR+L6PqBv9qRZwLPx9RHgYNz/xUF/5hVxoaenp9p2q8BqCXVr6yqKJOH+XmA/oa6e5W/FbXGhs7PTXr0SSXvBdHQJ9nzN3rqKI0m4LwTeDywGxgOvB24BpsTjjxDKNpW4fwWYTejNjwZOIVxYlVJz6gCpOknCfWVcIPTc/w5YCtwLXEIYMbMMuD/usyGuPxLf/zHW21WDtL31GZPHsnXVooxbI7WHWsa5f5kQ7NcC3cAdcfsdwHeBPcBLwEdqaaCKy0feSelVG+4PxQXgV8C7htjn98CHammUlLa3Do6EkcA7VNVi5q3cyJGURTznhJH6Ge5qGWl76yXgKXvr0nEMdzVdLb11H1AtDc1wV9OUuytcuW5HqmO9GUk6OcNdTeEFU6m+DHc1VC3DG53BUUrOcFfD2FuXGsdwV93V0lv3LlMpHcNddeXwRqk5DHfVRS3DGy3BSLWr5klMUiJdK9IF+/iOksEuZcSeuzJTS23dqQOkbBnuyoQjYaTWYrirJvbWpdZkuCuVRTc+xBP7X0l1rMMbpfoz3FU1SzBS6zPclVgtJRgw2KVGMtyViL11qb0Y7jqpc9Zs5oXfvZbqWCf6kprHcNew7K1L7ctw1wlq6a37ZCSpNRjuOo69dSkfDHcBtYX6+I4Sj69ZnGFrJNXKcJfT8ko5ZLgXWC29dWvrUmsz3AuolrnWwdq61A4M94Kxty4Vg+FeELUMb3T2Rqn9GO4F4PBGqXgM9xxzrnWpuAz3nLK3LhWb4Z4ztfTWfYiGlB+Ge47YW5fUx3DPAacOkDRYknCfDdwFzAB6gduAW4BpwDqgC3ga+DDwMuGu9FuAxcCrwCeBn2XdcMHq8i6+t2Vv6uPtrUv5NSrBPkeALwJvBhYAn4mvVwAPAvPj1xVx/3fHbfOBK4Bbs22yIPTW0wb7/FMnGexSziXpuT8XF4DfAY8Bs4AlwHlx+53AQ8CX4/a7CL38LcAUYOaAP0M1WHTjQzyx/5XUxxvqUjFUW3PvAs4CthLKNH2B/XxchxD8zw44Zl/cNjjcr4gLPT09VTajmLxgKimpasL9dcAPgCuB3w56rzcu1bgtLnR2dtYwjVX+vWnVA/z+aLpTNLoEe75msEtFkzTcxxCCfS1wX9z2Av3llpnA/ri9QrgI2+f0uE0p2FuXlEaSC6ol4A5Crf3GAds3AMvi62XA/QO2fyIetwA4iPX2qr3t6h+lDvbxHSWDXSq4JD33hcDHgV3AjrjtK8B1wD3A5cAzhKGQAA8QhkHuIQyF/FSG7S0Ee+uSapUk3P+b0AsfygVDbOslDJdUlWqZOsC51iUN5B2qLcLeuqQsGe5NVkuoX7ZgDtde/NYMWyMpLwz3JrK3LqleDPcmqGXcur11SUkY7g1Uy3NMwd66pOQM9waxBCOpkQz3Opu3ciNHUk6u8PpxHey85qJsGySpEAz3OrK3LqlZkkw/oBScOkBSM9lzz5i9dUmtwHDPyNLbH+HhJ19KdeyMyWPZumpRxi2SVGSGewbsrUtqNYZ7DWoZt77wjdNY++lzM26RJAWGe0r21iW1MsO9SrVMy+u4dUmNYrhXwd66pHZhuCdQS6iDwS6p8Qz3Edhbl9SODPdhzF2xkZRTwjhuXVLTGe5DsLcuqd0Z7gPUEuol4CmDXVKLMNyB1eVdfG/L3tTH21uX1GoKH+619NYdty6pVRU23O2tS8qzQoZ7Lb31my89k4vPmpVhayQpe4UK91oeeecFU0ntpDDh7vBGSUWS+3B36gBJRZTrcLe3Lqmochnu3owkqehyF+721iUpR+FeS6jPP3USm686L8PWSFJztX24l7srXLluR+rj7a1LyqO2DndHwkjS0OoV7hcBtwAdwLeB67L+BtbWJWl4o+rwZ3YA3wLeDbwZ+Gj8mpm0wV7CYJdUDPXoub8L2AP8Kq7fDSwBflmH75WYoS6pSOoR7rOAZwes7wPOGWK/K+JCT09PHZoRGOqSiqiZF1RviwudnZ1pH1d6Uga7pKKqR7hXgNkD1k+P2xrGUJdUdPW4oPo/wHxgLjAW+AiwIctvcLLwNtglqT499yPAZ4FNhJEz/wo8mvU3McQlaXj1qrk/EBdJUhPUoywjSWoyw12Scshwl6QcMtwlKYdKzW5A1AM8k/LYPwJezLAt7crz0M9zEXge+uX1XPwx0NnsRtTLtmY3oEV4Hvp5LgLPQ7/CnQvLMpKUQ4a7JOVQR7MbkJHtzW5Ai/A89PNcBJ6Hfp4LSZIkSZIkaXgXAbsJj/Rb0eS2NMJs4CeExxU+Cnw+bp8GbAaeiF+nxu0l4BuE87MTeEcjG9sAHUA38MO4PhfYSvh51xGmmwYYF9f3xPe7GtvMupsCrAceBx4DzqWYn4kvEH4vfgF8HxhPcT8Tba0DeBJ4A+Ev7Odk/BDuFjST/l/GycD/En7mf6T/H7cVwPXx9WLgPwm/0AsIH+I8uQr4N/rD/R7CswMA/hn46/j6b+I68f11jWpgg9wJ/FV8PZYQ9kX7TMwCngImxPV7gE9S3M9EWzuXMF98n5VxKZL7gUWE/73MjNtmxnWAfwE+OmD/gfu1u9OBB4HzCeFeItx92DeF9cDPx6a4Tnz/RVrnzuxanUIItcE/T9E+E33PbZ5G+Dv+IXAhxfxMHNOu49yHegj3rCa1pRm6gLMIPa8ZwHNx+/NxHfJ9jm4GvgT8Ia5PBw4QHhQDx/+sA8/DEeBg3D8P5hKm7vgOoUT1bWASxftMVICvA3sJP/dBwrDHIn4mjmnXcC+y1wE/AK4Efjvovd645Nl7gf04ZhlCr/MdwK2Ef+xf4cTrT0X4TEwFlhD+sTuN8A/cRU1tUQto13Bv+kO4m2QMIdjXAvfFbS9w/H/B98fXeT1HC4H3A08DdxNKM7cQas19/wUf+LMOPA+jCaWM3zSqsXW2Ly59tfP1hLAv2mfizwnlqR7gMOF3YyHF/Ewc067hXveHcLegEnAHYUTEjQO2bwCWxdfLCLX4vu2foP/i2UH6/6vezlYSflG7CH/vPwaWEkYSXRL3GXwe+s7PJXH/vPRknyeUF86I6xcQRlMV7TOxl/DzTCT8bH3noYifiVxYTBgx8iSwqsltaYQ/JXwAdwI74rKYUCt8kDDs7b8IF5UgfMi/RTg/u4B3Nri9jXAe/aNl3gD8lDC87V7CcDcIQ+Lujdt/GvfLkzMJMx7uBMqEEkURPxPXEIaD/gL4LuHvv6ifCUmSJEmSJEmSJEmSJEmSJEmSWs7/AyZYoEgf9pCDAAAAAElFTkSuQmCC)</center><br>\n",
        "\n",
        "---\n",
        "\n",
        "\n",
        "##***`e)`*\tWrite code to reduce number of dimensions using PCA. Write to code to predict the output variable using linear regression. How good is your result? Plot the result.**"
      ],
      "metadata": {
        "id": "Ak1RFIK_8uhR"
      }
    },
    {
      "cell_type": "code",
      "source": [
        "#PCA\n",
        "from sklearn.decomposition import PCA\n",
        "pca = PCA(0.95)\n",
        "print(\"before PCA shape is :\",bike_dataframe.shape)\n",
        "bike_dataframe_pca =  pca.fit_transform(bike_dataframe)# here we will use bike_dataframe(original)\n",
        "print(\"After PCA shape is :\",bike_dataframe_pca.shape)"
      ],
      "metadata": {
        "colab": {
          "base_uri": "https://localhost:8080/",
          "height": 0
        },
        "id": "jxXZkVAc80kU",
        "outputId": "b8b2e1be-8c8d-4f6c-8203-e9c7179d0d74"
      },
      "execution_count": 199,
      "outputs": [
        {
          "output_type": "stream",
          "name": "stdout",
          "text": [
            "before PCA shape is : (17379, 14)\n",
            "After PCA shape is : (17379, 2)\n"
          ]
        }
      ]
    },
    {
      "cell_type": "code",
      "source": [
        "x_train,x_test,y_train,y_test = train_test_split(bike_dataframe_pca,target,test_size=0.2)\n",
        "model = LinearRegression()\n",
        "model.fit(x_train , y_train)\n",
        "y_pred = model.predict(x_test)\n",
        "# print(y_pred)\n",
        "# print(y_test)\n",
        "print(\"\\nscore is \",model.score(x_test,y_test))"
      ],
      "metadata": {
        "colab": {
          "base_uri": "https://localhost:8080/",
          "height": 0
        },
        "id": "ikbnCgDR_pq6",
        "outputId": "486cbaa0-27c0-4af3-bcdc-fa542a3d7ae4"
      },
      "execution_count": 200,
      "outputs": [
        {
          "output_type": "stream",
          "name": "stdout",
          "text": [
            "\n",
            "score is  0.9999984500627028\n"
          ]
        }
      ]
    },
    {
      "cell_type": "code",
      "source": [
        "from matplotlib import pyplot as plt\n",
        "plt.scatter(y_test,y_pred)\n",
        "plt.show()"
      ],
      "metadata": {
        "id": "dnsur-C0_0zV"
      },
      "execution_count": null,
      "outputs": []
    },
    {
      "cell_type": "markdown",
      "source": [
        "![image.png](data:image/png;base64,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)"
      ],
      "metadata": {
        "id": "XzlWvLgmVTxG"
      }
    },
    {
      "cell_type": "markdown",
      "source": [
        "\n",
        "##***f)*\tComment on effectiveness of PCA in predicting the expected number bikes.**\n",
        "# Answer\n",
        "PCA reduce the dimensions automatically and reduce the data loss. We set the PCA(0.95) mean return 95% usefull data.<br>\n",
        "As above, we had done nornmalization and remove noise and then we get very good model for this data but with using PCA we get almost very good prediction.\n",
        "# <center>**The End**</center> "
      ],
      "metadata": {
        "id": "DgdNAPnvAC-I"
      }
    }
  ]
}