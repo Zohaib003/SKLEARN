{
  "nbformat": 4,
  "nbformat_minor": 0,
  "metadata": {
    "colab": {
      "name": "Muhammad Zohaib Aslam Khan - lab_13_pre.ipynb",
      "provenance": [],
      "collapsed_sections": []
    },
    "kernelspec": {
      "name": "python3",
      "display_name": "Python 3"
    },
    "language_info": {
      "name": "python"
    },
    "accelerator": "GPU"
  },
  "cells": [
    {
      "cell_type": "markdown",
      "source": [
        "# **Santander Bank Customer Satisfaction - Classification**\n"
      ],
      "metadata": {
        "id": "4ZjW8XIBW4EG"
      }
    },
    {
      "cell_type": "code",
      "source": [
        "!pip install feature_engine"
      ],
      "metadata": {
        "colab": {
          "base_uri": "https://localhost:8080/"
        },
        "id": "GZd4Tk9zPcUQ",
        "outputId": "254fb762-2a6f-4ded-edd2-0fef0b7f6875"
      },
      "execution_count": null,
      "outputs": [
        {
          "output_type": "stream",
          "name": "stdout",
          "text": [
            "Collecting feature_engine\n",
            "  Downloading feature_engine-1.3.0-py2.py3-none-any.whl (260 kB)\n",
            "\u001b[?25l\r\u001b[K     |█▎                              | 10 kB 26.5 MB/s eta 0:00:01\r\u001b[K     |██▌                             | 20 kB 26.8 MB/s eta 0:00:01\r\u001b[K     |███▊                            | 30 kB 18.0 MB/s eta 0:00:01\r\u001b[K     |█████                           | 40 kB 15.7 MB/s eta 0:00:01\r\u001b[K     |██████▎                         | 51 kB 7.2 MB/s eta 0:00:01\r\u001b[K     |███████▌                        | 61 kB 8.5 MB/s eta 0:00:01\r\u001b[K     |████████▉                       | 71 kB 7.8 MB/s eta 0:00:01\r\u001b[K     |██████████                      | 81 kB 8.7 MB/s eta 0:00:01\r\u001b[K     |███████████▎                    | 92 kB 9.6 MB/s eta 0:00:01\r\u001b[K     |████████████▋                   | 102 kB 8.0 MB/s eta 0:00:01\r\u001b[K     |█████████████▉                  | 112 kB 8.0 MB/s eta 0:00:01\r\u001b[K     |███████████████                 | 122 kB 8.0 MB/s eta 0:00:01\r\u001b[K     |████████████████▍               | 133 kB 8.0 MB/s eta 0:00:01\r\u001b[K     |█████████████████▋              | 143 kB 8.0 MB/s eta 0:00:01\r\u001b[K     |██████████████████▉             | 153 kB 8.0 MB/s eta 0:00:01\r\u001b[K     |████████████████████▏           | 163 kB 8.0 MB/s eta 0:00:01\r\u001b[K     |█████████████████████▍          | 174 kB 8.0 MB/s eta 0:00:01\r\u001b[K     |██████████████████████▋         | 184 kB 8.0 MB/s eta 0:00:01\r\u001b[K     |████████████████████████        | 194 kB 8.0 MB/s eta 0:00:01\r\u001b[K     |█████████████████████████▏      | 204 kB 8.0 MB/s eta 0:00:01\r\u001b[K     |██████████████████████████▍     | 215 kB 8.0 MB/s eta 0:00:01\r\u001b[K     |███████████████████████████▋    | 225 kB 8.0 MB/s eta 0:00:01\r\u001b[K     |█████████████████████████████   | 235 kB 8.0 MB/s eta 0:00:01\r\u001b[K     |██████████████████████████████▏ | 245 kB 8.0 MB/s eta 0:00:01\r\u001b[K     |███████████████████████████████▍| 256 kB 8.0 MB/s eta 0:00:01\r\u001b[K     |████████████████████████████████| 260 kB 8.0 MB/s \n",
            "\u001b[?25hRequirement already satisfied: numpy>=1.18.2 in /usr/local/lib/python3.7/dist-packages (from feature_engine) (1.21.6)\n",
            "Requirement already satisfied: scipy>=1.4.1 in /usr/local/lib/python3.7/dist-packages (from feature_engine) (1.4.1)\n",
            "Requirement already satisfied: scikit-learn>=1.0.0 in /usr/local/lib/python3.7/dist-packages (from feature_engine) (1.0.2)\n",
            "Collecting statsmodels>=0.11.1\n",
            "  Downloading statsmodels-0.13.2-cp37-cp37m-manylinux_2_17_x86_64.manylinux2014_x86_64.whl (9.8 MB)\n",
            "\u001b[K     |████████████████████████████████| 9.8 MB 53.5 MB/s \n",
            "\u001b[?25hRequirement already satisfied: pandas>=1.0.3 in /usr/local/lib/python3.7/dist-packages (from feature_engine) (1.3.5)\n",
            "Requirement already satisfied: pytz>=2017.3 in /usr/local/lib/python3.7/dist-packages (from pandas>=1.0.3->feature_engine) (2022.1)\n",
            "Requirement already satisfied: python-dateutil>=2.7.3 in /usr/local/lib/python3.7/dist-packages (from pandas>=1.0.3->feature_engine) (2.8.2)\n",
            "Requirement already satisfied: six>=1.5 in /usr/local/lib/python3.7/dist-packages (from python-dateutil>=2.7.3->pandas>=1.0.3->feature_engine) (1.15.0)\n",
            "Requirement already satisfied: threadpoolctl>=2.0.0 in /usr/local/lib/python3.7/dist-packages (from scikit-learn>=1.0.0->feature_engine) (3.1.0)\n",
            "Requirement already satisfied: joblib>=0.11 in /usr/local/lib/python3.7/dist-packages (from scikit-learn>=1.0.0->feature_engine) (1.1.0)\n",
            "Requirement already satisfied: patsy>=0.5.2 in /usr/local/lib/python3.7/dist-packages (from statsmodels>=0.11.1->feature_engine) (0.5.2)\n",
            "Requirement already satisfied: packaging>=21.3 in /usr/local/lib/python3.7/dist-packages (from statsmodels>=0.11.1->feature_engine) (21.3)\n",
            "Requirement already satisfied: pyparsing!=3.0.5,>=2.0.2 in /usr/local/lib/python3.7/dist-packages (from packaging>=21.3->statsmodels>=0.11.1->feature_engine) (3.0.8)\n",
            "Installing collected packages: statsmodels, feature-engine\n",
            "  Attempting uninstall: statsmodels\n",
            "    Found existing installation: statsmodels 0.10.2\n",
            "    Uninstalling statsmodels-0.10.2:\n",
            "      Successfully uninstalled statsmodels-0.10.2\n",
            "Successfully installed feature-engine-1.3.0 statsmodels-0.13.2\n"
          ]
        }
      ]
    },
    {
      "cell_type": "code",
      "source": [
        "# Import the libraries, please only use the libraries imported below\n",
        "import pandas as pd\n",
        "import matplotlib.pyplot as plt\n",
        "import seaborn as sns\n",
        "import numpy as np\n",
        "\n",
        "from sklearn.linear_model import LogisticRegression\n",
        "from sklearn.neighbors import KNeighborsClassifier\n",
        "from sklearn.model_selection import train_test_split\n",
        "from sklearn.metrics import accuracy_score, confusion_matrix, recall_score,classification_report, roc_auc_score\n",
        "from sklearn.metrics import roc_curve\n",
        "from sklearn.ensemble import RandomForestClassifier\n",
        "from sklearn.model_selection import GridSearchCV, RandomizedSearchCV\n",
        "from xgboost import XGBClassifier\n",
        "\n",
        "from imblearn.over_sampling import SMOTE\n",
        "import pickle\n",
        "import joblib\n",
        "from sklearn.inspection import permutation_importance\n",
        "from feature_engine.selection import DropDuplicateFeatures, DropConstantFeatures\n",
        "import warnings\n",
        "warnings.filterwarnings('ignore')"
      ],
      "metadata": {
        "id": "LnsKbpM937UZ"
      },
      "execution_count": null,
      "outputs": []
    },
    {
      "cell_type": "markdown",
      "source": [
        "# **1. Download the Dataset from Shared Google Drive ID's**\n",
        "1.1 Google Drive ID for Train Data is given below and execute the following command to download the data from Google Drive\n",
        "\n",
        "\n",
        "```\n",
        "!gdown 1_NPqplpJLHl28cbAhuL2k6jJObJF9wwU\n",
        "```\n",
        "1.2 To download Test Data execute the following command\n",
        "\n",
        "\n",
        "```\n",
        "!gdown 1LdvVrsrWLNO-UAJf0Z9S-SxnV1nozcsu\n",
        "```\n",
        "\n",
        "**Important:** Please note that **!** represents the linux commands being executed on the drive. Don't use **!** while using at your system. "
      ],
      "metadata": {
        "id": "v1kPmcY-ddJo"
      }
    },
    {
      "cell_type": "code",
      "source": [
        "!gdown 1_NPqplpJLHl28cbAhuL2k6jJObJF9wwU"
      ],
      "metadata": {
        "colab": {
          "base_uri": "https://localhost:8080/"
        },
        "id": "CrxQ6r8COKQt",
        "outputId": "f242783c-1d63-4319-9504-691b26d55d55"
      },
      "execution_count": null,
      "outputs": [
        {
          "output_type": "stream",
          "name": "stdout",
          "text": [
            "Downloading...\n",
            "From: https://drive.google.com/uc?id=1_NPqplpJLHl28cbAhuL2k6jJObJF9wwU\n",
            "To: /content/train.csv\n",
            "100% 59.4M/59.4M [00:00<00:00, 142MB/s]\n"
          ]
        }
      ]
    },
    {
      "cell_type": "code",
      "source": [
        "!gdown 1LdvVrsrWLNO-UAJf0Z9S-SxnV1nozcsu\n"
      ],
      "metadata": {
        "colab": {
          "base_uri": "https://localhost:8080/"
        },
        "id": "MLNTQUmuPl2g",
        "outputId": "6cfd4d42-35ac-41c9-8b32-022d4e8d8d91"
      },
      "execution_count": null,
      "outputs": [
        {
          "output_type": "stream",
          "name": "stdout",
          "text": [
            "Downloading...\n",
            "From: https://drive.google.com/uc?id=1LdvVrsrWLNO-UAJf0Z9S-SxnV1nozcsu\n",
            "To: /content/test.csv\n",
            "100% 59.1M/59.1M [00:00<00:00, 131MB/s]\n"
          ]
        }
      ]
    },
    {
      "cell_type": "code",
      "source": [
        ""
      ],
      "metadata": {
        "id": "goZTJrA_QBxP"
      },
      "execution_count": null,
      "outputs": []
    },
    {
      "cell_type": "markdown",
      "source": [
        "# **2. Load and Preprocess the Data**"
      ],
      "metadata": {
        "id": "L0USyvYkfOrL"
      }
    },
    {
      "cell_type": "markdown",
      "source": [
        "Load the train and test dataset and Preprocess train data with the following objectives.\n",
        "\n",
        "> 1. have zero variance\n",
        "\n",
        "> 2. duplicated column\n",
        "\n",
        "> 3. very sparse features\n",
        "\n",
        "\n",
        "\n",
        "\n"
      ],
      "metadata": {
        "id": "19vB4wr51kVl"
      }
    },
    {
      "cell_type": "code",
      "source": [
        "df = pd.read_csv('train.csv')\n",
        "df.head(2)"
      ],
      "metadata": {
        "colab": {
          "base_uri": "https://localhost:8080/",
          "height": 205
        },
        "id": "xQiEdLB1bk9y",
        "outputId": "e7b59316-6c66-43b7-9e90-6d759123e05d"
      },
      "execution_count": null,
      "outputs": [
        {
          "output_type": "execute_result",
          "data": {
            "text/plain": [
              "   ID  var3  var15  imp_ent_var16_ult1  imp_op_var39_comer_ult1  \\\n",
              "0   1     2     23                 0.0                      0.0   \n",
              "1   3     2     34                 0.0                      0.0   \n",
              "\n",
              "   imp_op_var39_comer_ult3  imp_op_var40_comer_ult1  imp_op_var40_comer_ult3  \\\n",
              "0                      0.0                      0.0                      0.0   \n",
              "1                      0.0                      0.0                      0.0   \n",
              "\n",
              "   imp_op_var40_efect_ult1  imp_op_var40_efect_ult3  ...  \\\n",
              "0                      0.0                      0.0  ...   \n",
              "1                      0.0                      0.0  ...   \n",
              "\n",
              "   saldo_medio_var33_hace2  saldo_medio_var33_hace3  saldo_medio_var33_ult1  \\\n",
              "0                      0.0                      0.0                     0.0   \n",
              "1                      0.0                      0.0                     0.0   \n",
              "\n",
              "   saldo_medio_var33_ult3  saldo_medio_var44_hace2  saldo_medio_var44_hace3  \\\n",
              "0                     0.0                      0.0                      0.0   \n",
              "1                     0.0                      0.0                      0.0   \n",
              "\n",
              "   saldo_medio_var44_ult1  saldo_medio_var44_ult3     var38  TARGET  \n",
              "0                     0.0                     0.0  39205.17       0  \n",
              "1                     0.0                     0.0  49278.03       0  \n",
              "\n",
              "[2 rows x 371 columns]"
            ],
            "text/html": [
              "\n",
              "  <div id=\"df-7d1431de-c043-42a6-954b-1fd66e98264f\">\n",
              "    <div class=\"colab-df-container\">\n",
              "      <div>\n",
              "<style scoped>\n",
              "    .dataframe tbody tr th:only-of-type {\n",
              "        vertical-align: middle;\n",
              "    }\n",
              "\n",
              "    .dataframe tbody tr th {\n",
              "        vertical-align: top;\n",
              "    }\n",
              "\n",
              "    .dataframe thead th {\n",
              "        text-align: right;\n",
              "    }\n",
              "</style>\n",
              "<table border=\"1\" class=\"dataframe\">\n",
              "  <thead>\n",
              "    <tr style=\"text-align: right;\">\n",
              "      <th></th>\n",
              "      <th>ID</th>\n",
              "      <th>var3</th>\n",
              "      <th>var15</th>\n",
              "      <th>imp_ent_var16_ult1</th>\n",
              "      <th>imp_op_var39_comer_ult1</th>\n",
              "      <th>imp_op_var39_comer_ult3</th>\n",
              "      <th>imp_op_var40_comer_ult1</th>\n",
              "      <th>imp_op_var40_comer_ult3</th>\n",
              "      <th>imp_op_var40_efect_ult1</th>\n",
              "      <th>imp_op_var40_efect_ult3</th>\n",
              "      <th>...</th>\n",
              "      <th>saldo_medio_var33_hace2</th>\n",
              "      <th>saldo_medio_var33_hace3</th>\n",
              "      <th>saldo_medio_var33_ult1</th>\n",
              "      <th>saldo_medio_var33_ult3</th>\n",
              "      <th>saldo_medio_var44_hace2</th>\n",
              "      <th>saldo_medio_var44_hace3</th>\n",
              "      <th>saldo_medio_var44_ult1</th>\n",
              "      <th>saldo_medio_var44_ult3</th>\n",
              "      <th>var38</th>\n",
              "      <th>TARGET</th>\n",
              "    </tr>\n",
              "  </thead>\n",
              "  <tbody>\n",
              "    <tr>\n",
              "      <th>0</th>\n",
              "      <td>1</td>\n",
              "      <td>2</td>\n",
              "      <td>23</td>\n",
              "      <td>0.0</td>\n",
              "      <td>0.0</td>\n",
              "      <td>0.0</td>\n",
              "      <td>0.0</td>\n",
              "      <td>0.0</td>\n",
              "      <td>0.0</td>\n",
              "      <td>0.0</td>\n",
              "      <td>...</td>\n",
              "      <td>0.0</td>\n",
              "      <td>0.0</td>\n",
              "      <td>0.0</td>\n",
              "      <td>0.0</td>\n",
              "      <td>0.0</td>\n",
              "      <td>0.0</td>\n",
              "      <td>0.0</td>\n",
              "      <td>0.0</td>\n",
              "      <td>39205.17</td>\n",
              "      <td>0</td>\n",
              "    </tr>\n",
              "    <tr>\n",
              "      <th>1</th>\n",
              "      <td>3</td>\n",
              "      <td>2</td>\n",
              "      <td>34</td>\n",
              "      <td>0.0</td>\n",
              "      <td>0.0</td>\n",
              "      <td>0.0</td>\n",
              "      <td>0.0</td>\n",
              "      <td>0.0</td>\n",
              "      <td>0.0</td>\n",
              "      <td>0.0</td>\n",
              "      <td>...</td>\n",
              "      <td>0.0</td>\n",
              "      <td>0.0</td>\n",
              "      <td>0.0</td>\n",
              "      <td>0.0</td>\n",
              "      <td>0.0</td>\n",
              "      <td>0.0</td>\n",
              "      <td>0.0</td>\n",
              "      <td>0.0</td>\n",
              "      <td>49278.03</td>\n",
              "      <td>0</td>\n",
              "    </tr>\n",
              "  </tbody>\n",
              "</table>\n",
              "<p>2 rows × 371 columns</p>\n",
              "</div>\n",
              "      <button class=\"colab-df-convert\" onclick=\"convertToInteractive('df-7d1431de-c043-42a6-954b-1fd66e98264f')\"\n",
              "              title=\"Convert this dataframe to an interactive table.\"\n",
              "              style=\"display:none;\">\n",
              "        \n",
              "  <svg xmlns=\"http://www.w3.org/2000/svg\" height=\"24px\"viewBox=\"0 0 24 24\"\n",
              "       width=\"24px\">\n",
              "    <path d=\"M0 0h24v24H0V0z\" fill=\"none\"/>\n",
              "    <path d=\"M18.56 5.44l.94 2.06.94-2.06 2.06-.94-2.06-.94-.94-2.06-.94 2.06-2.06.94zm-11 1L8.5 8.5l.94-2.06 2.06-.94-2.06-.94L8.5 2.5l-.94 2.06-2.06.94zm10 10l.94 2.06.94-2.06 2.06-.94-2.06-.94-.94-2.06-.94 2.06-2.06.94z\"/><path d=\"M17.41 7.96l-1.37-1.37c-.4-.4-.92-.59-1.43-.59-.52 0-1.04.2-1.43.59L10.3 9.45l-7.72 7.72c-.78.78-.78 2.05 0 2.83L4 21.41c.39.39.9.59 1.41.59.51 0 1.02-.2 1.41-.59l7.78-7.78 2.81-2.81c.8-.78.8-2.07 0-2.86zM5.41 20L4 18.59l7.72-7.72 1.47 1.35L5.41 20z\"/>\n",
              "  </svg>\n",
              "      </button>\n",
              "      \n",
              "  <style>\n",
              "    .colab-df-container {\n",
              "      display:flex;\n",
              "      flex-wrap:wrap;\n",
              "      gap: 12px;\n",
              "    }\n",
              "\n",
              "    .colab-df-convert {\n",
              "      background-color: #E8F0FE;\n",
              "      border: none;\n",
              "      border-radius: 50%;\n",
              "      cursor: pointer;\n",
              "      display: none;\n",
              "      fill: #1967D2;\n",
              "      height: 32px;\n",
              "      padding: 0 0 0 0;\n",
              "      width: 32px;\n",
              "    }\n",
              "\n",
              "    .colab-df-convert:hover {\n",
              "      background-color: #E2EBFA;\n",
              "      box-shadow: 0px 1px 2px rgba(60, 64, 67, 0.3), 0px 1px 3px 1px rgba(60, 64, 67, 0.15);\n",
              "      fill: #174EA6;\n",
              "    }\n",
              "\n",
              "    [theme=dark] .colab-df-convert {\n",
              "      background-color: #3B4455;\n",
              "      fill: #D2E3FC;\n",
              "    }\n",
              "\n",
              "    [theme=dark] .colab-df-convert:hover {\n",
              "      background-color: #434B5C;\n",
              "      box-shadow: 0px 1px 3px 1px rgba(0, 0, 0, 0.15);\n",
              "      filter: drop-shadow(0px 1px 2px rgba(0, 0, 0, 0.3));\n",
              "      fill: #FFFFFF;\n",
              "    }\n",
              "  </style>\n",
              "\n",
              "      <script>\n",
              "        const buttonEl =\n",
              "          document.querySelector('#df-7d1431de-c043-42a6-954b-1fd66e98264f button.colab-df-convert');\n",
              "        buttonEl.style.display =\n",
              "          google.colab.kernel.accessAllowed ? 'block' : 'none';\n",
              "\n",
              "        async function convertToInteractive(key) {\n",
              "          const element = document.querySelector('#df-7d1431de-c043-42a6-954b-1fd66e98264f');\n",
              "          const dataTable =\n",
              "            await google.colab.kernel.invokeFunction('convertToInteractive',\n",
              "                                                     [key], {});\n",
              "          if (!dataTable) return;\n",
              "\n",
              "          const docLinkHtml = 'Like what you see? Visit the ' +\n",
              "            '<a target=\"_blank\" href=https://colab.research.google.com/notebooks/data_table.ipynb>data table notebook</a>'\n",
              "            + ' to learn more about interactive tables.';\n",
              "          element.innerHTML = '';\n",
              "          dataTable['output_type'] = 'display_data';\n",
              "          await google.colab.output.renderOutput(dataTable, element);\n",
              "          const docLink = document.createElement('div');\n",
              "          docLink.innerHTML = docLinkHtml;\n",
              "          element.appendChild(docLink);\n",
              "        }\n",
              "      </script>\n",
              "    </div>\n",
              "  </div>\n",
              "  "
            ]
          },
          "metadata": {},
          "execution_count": 5
        }
      ]
    },
    {
      "cell_type": "code",
      "source": [
        "Y = df.TARGET\n",
        "X = df.drop(\"TARGET\",axis=1)"
      ],
      "metadata": {
        "id": "ZPxMESOLQ7CW"
      },
      "execution_count": null,
      "outputs": []
    },
    {
      "cell_type": "code",
      "source": [
        "X.shape"
      ],
      "metadata": {
        "colab": {
          "base_uri": "https://localhost:8080/"
        },
        "id": "uvKTYT39RUH7",
        "outputId": "e89a6a83-0fe4-4411-c461-8321252058e0"
      },
      "execution_count": null,
      "outputs": [
        {
          "output_type": "execute_result",
          "data": {
            "text/plain": [
              "(76020, 370)"
            ]
          },
          "metadata": {},
          "execution_count": 7
        }
      ]
    },
    {
      "cell_type": "code",
      "source": [
        "const = DropConstantFeatures(tol=1)\n",
        "X = const.fit_transform(X)\n",
        "\n",
        "dup = DropDuplicateFeatures()\n",
        "X = dup.fit_transform(X)\n",
        "\n",
        "q_cons = DropConstantFeatures(tol=0.99)\n",
        "X = q_cons.fit_transform(X)"
      ],
      "metadata": {
        "id": "kjn4lJBPRNm6"
      },
      "execution_count": null,
      "outputs": []
    },
    {
      "cell_type": "markdown",
      "source": [
        "# **3. Training the Different Models**"
      ],
      "metadata": {
        "id": "bE2emrTjfck7"
      }
    },
    {
      "cell_type": "markdown",
      "source": [
        "Train different models with the following configurations and try to achieve maximum recall score or balanced precision/recall scores."
      ],
      "metadata": {
        "id": "gEPBH7oi28Co"
      }
    },
    {
      "cell_type": "markdown",
      "source": [
        "# 3.1 Simple Logistic Regression\n",
        "Train simple logistic regression model and evaluate it on the validation set and print precision, recall, classification_report and ROC_AUC at the end."
      ],
      "metadata": {
        "id": "zkK9-_UZ3KcH"
      }
    },
    {
      "cell_type": "code",
      "source": [
        "X.shape"
      ],
      "metadata": {
        "id": "i8ZPRZAGSDJ1",
        "outputId": "35d98aa7-02e1-4a86-e061-71c9872ef48c",
        "colab": {
          "base_uri": "https://localhost:8080/"
        }
      },
      "execution_count": null,
      "outputs": [
        {
          "output_type": "execute_result",
          "data": {
            "text/plain": [
              "(76020, 143)"
            ]
          },
          "metadata": {},
          "execution_count": 9
        }
      ]
    },
    {
      "cell_type": "code",
      "source": [
        "X_train,X_test,Y_train,Y_test = train_test_split(X,Y,stratify=Y,train_size = 0.8)"
      ],
      "metadata": {
        "id": "YRNrRO8CTm_K"
      },
      "execution_count": null,
      "outputs": []
    },
    {
      "cell_type": "code",
      "source": [
        "logreg = LogisticRegression()\n",
        "logreg.fit(X_train,Y_train)"
      ],
      "metadata": {
        "id": "Wetdw7ZyUR56",
        "outputId": "6e163eb4-8f36-4845-99f1-efd3e4ce1df1",
        "colab": {
          "base_uri": "https://localhost:8080/"
        }
      },
      "execution_count": null,
      "outputs": [
        {
          "output_type": "execute_result",
          "data": {
            "text/plain": [
              "LogisticRegression()"
            ]
          },
          "metadata": {},
          "execution_count": 11
        }
      ]
    },
    {
      "cell_type": "code",
      "source": [
        "y_pred = logreg.predict(X_test)\n",
        "acc = accuracy_score(Y_test,y_pred)\n",
        "acc"
      ],
      "metadata": {
        "id": "Kj5iae1BVAax",
        "outputId": "968a2a72-c99e-42a2-90fe-5efcf7fadb89",
        "colab": {
          "base_uri": "https://localhost:8080/"
        }
      },
      "execution_count": null,
      "outputs": [
        {
          "output_type": "execute_result",
          "data": {
            "text/plain": [
              "0.9604051565377533"
            ]
          },
          "metadata": {},
          "execution_count": 12
        }
      ]
    },
    {
      "cell_type": "code",
      "source": [
        "from sklearn.metrics import classification_report\n",
        "print(classification_report(Y_test,y_pred))"
      ],
      "metadata": {
        "id": "2fO11gu1Vfyw",
        "outputId": "4cf88135-9007-402a-e8a5-95109a01c2f5",
        "colab": {
          "base_uri": "https://localhost:8080/"
        }
      },
      "execution_count": null,
      "outputs": [
        {
          "output_type": "stream",
          "name": "stdout",
          "text": [
            "              precision    recall  f1-score   support\n",
            "\n",
            "           0       0.96      1.00      0.98     14602\n",
            "           1       0.00      0.00      0.00       602\n",
            "\n",
            "    accuracy                           0.96     15204\n",
            "   macro avg       0.48      0.50      0.49     15204\n",
            "weighted avg       0.92      0.96      0.94     15204\n",
            "\n"
          ]
        }
      ]
    },
    {
      "cell_type": "code",
      "source": [
        ""
      ],
      "metadata": {
        "id": "8TS803Ku4YsQ"
      },
      "execution_count": null,
      "outputs": []
    },
    {
      "cell_type": "markdown",
      "source": [
        "# 3.2 Train Vanilla kNN\n",
        "Train simple kNN model and evaluate it on the validation set and print precision, recall, classification_report and ROC_AUC at the end."
      ],
      "metadata": {
        "id": "3vqgG2rI4bxU"
      }
    },
    {
      "cell_type": "code",
      "source": [
        "# Your code here\n",
        "knnWala  = KNeighborsClassifier()\n",
        "knnWala.fit(X_train,Y_train)\n"
      ],
      "metadata": {
        "id": "vNfNdC-X-QuB",
        "colab": {
          "base_uri": "https://localhost:8080/"
        },
        "outputId": "f60fe86a-2e0c-4a9c-c7e2-94f927ea9ba9"
      },
      "execution_count": null,
      "outputs": [
        {
          "output_type": "execute_result",
          "data": {
            "text/plain": [
              "KNeighborsClassifier()"
            ]
          },
          "metadata": {},
          "execution_count": 14
        }
      ]
    },
    {
      "cell_type": "code",
      "source": [
        "y_pred = knnWala.predict(X_test)\n",
        "acc = accuracy_score(Y_test,y_pred)\n",
        "acc"
      ],
      "metadata": {
        "colab": {
          "base_uri": "https://localhost:8080/"
        },
        "id": "ww76S8ivXV0U",
        "outputId": "ca454074-3970-41dc-e852-af834bcd83e7"
      },
      "execution_count": null,
      "outputs": [
        {
          "output_type": "execute_result",
          "data": {
            "text/plain": [
              "0.9593528018942383"
            ]
          },
          "metadata": {},
          "execution_count": 15
        }
      ]
    },
    {
      "cell_type": "code",
      "source": [
        "from sklearn.metrics import classification_report\n",
        "print(classification_report(Y_test,y_pred))"
      ],
      "metadata": {
        "colab": {
          "base_uri": "https://localhost:8080/"
        },
        "id": "yblBLqyDXjb7",
        "outputId": "8533b776-b0c9-41b1-ad01-abf2b07f2962"
      },
      "execution_count": null,
      "outputs": [
        {
          "output_type": "stream",
          "name": "stdout",
          "text": [
            "              precision    recall  f1-score   support\n",
            "\n",
            "           0       0.96      1.00      0.98     14602\n",
            "           1       0.06      0.00      0.00       602\n",
            "\n",
            "    accuracy                           0.96     15204\n",
            "   macro avg       0.51      0.50      0.49     15204\n",
            "weighted avg       0.92      0.96      0.94     15204\n",
            "\n"
          ]
        }
      ]
    },
    {
      "cell_type": "markdown",
      "source": [
        "# 3.3 Train kNN for k=2 and k=4 and evaluate it\n",
        "Train kNN model with k values above and evaluate it on the validation set and print precision, recall, classification_report and ROC_AUC at the end."
      ],
      "metadata": {
        "id": "NpYUqJQD-VLy"
      }
    },
    {
      "cell_type": "code",
      "source": [
        "# Your code here\n",
        "knnWala  = KNeighborsClassifier(n_neighbors=2)\n",
        "knnWala.fit(X_train,Y_train)\n",
        "\n"
      ],
      "metadata": {
        "id": "EWTIykAk-ihw",
        "colab": {
          "base_uri": "https://localhost:8080/"
        },
        "outputId": "2937b868-fa63-4343-bb13-8b2f44c159ab"
      },
      "execution_count": null,
      "outputs": [
        {
          "output_type": "execute_result",
          "data": {
            "text/plain": [
              "KNeighborsClassifier(n_neighbors=2)"
            ]
          },
          "metadata": {},
          "execution_count": 17
        }
      ]
    },
    {
      "cell_type": "code",
      "source": [
        "y_pred = knnWala.predict(X_test)\n",
        "acc = accuracy_score(Y_test,y_pred)\n",
        "acc"
      ],
      "metadata": {
        "colab": {
          "base_uri": "https://localhost:8080/"
        },
        "id": "lUaVFgzqXxfR",
        "outputId": "7dbb4ba0-ab2c-4245-db12-0d085297700c"
      },
      "execution_count": null,
      "outputs": [
        {
          "output_type": "execute_result",
          "data": {
            "text/plain": [
              "0.9586293080768219"
            ]
          },
          "metadata": {},
          "execution_count": 18
        }
      ]
    },
    {
      "cell_type": "code",
      "source": [
        "from sklearn.metrics import classification_report\n",
        "print(classification_report(Y_test,y_pred))"
      ],
      "metadata": {
        "colab": {
          "base_uri": "https://localhost:8080/"
        },
        "id": "xNJoQGoiX77I",
        "outputId": "c4d55c92-de38-453c-c355-222ac23324d6"
      },
      "execution_count": null,
      "outputs": [
        {
          "output_type": "stream",
          "name": "stdout",
          "text": [
            "              precision    recall  f1-score   support\n",
            "\n",
            "           0       0.96      1.00      0.98     14602\n",
            "           1       0.11      0.01      0.01       602\n",
            "\n",
            "    accuracy                           0.96     15204\n",
            "   macro avg       0.54      0.50      0.50     15204\n",
            "weighted avg       0.93      0.96      0.94     15204\n",
            "\n"
          ]
        }
      ]
    },
    {
      "cell_type": "markdown",
      "source": [
        "##For k = 4"
      ],
      "metadata": {
        "id": "9jHkTwC8X9O4"
      }
    },
    {
      "cell_type": "code",
      "source": [
        "# Your code here\n",
        "knnWala  = KNeighborsClassifier(n_neighbors=4)\n",
        "knnWala.fit(X_train,Y_train)\n",
        "\n"
      ],
      "metadata": {
        "colab": {
          "base_uri": "https://localhost:8080/"
        },
        "outputId": "63c1dab1-11cd-4710-b40e-d4d9c76137ca",
        "id": "0dWhqJuEYMyb"
      },
      "execution_count": null,
      "outputs": [
        {
          "output_type": "execute_result",
          "data": {
            "text/plain": [
              "KNeighborsClassifier(n_neighbors=4)"
            ]
          },
          "metadata": {},
          "execution_count": 20
        }
      ]
    },
    {
      "cell_type": "code",
      "source": [
        "y_pred = knnWala.predict(X_test)\n",
        "acc = accuracy_score(Y_test,y_pred)\n",
        "acc"
      ],
      "metadata": {
        "colab": {
          "base_uri": "https://localhost:8080/"
        },
        "outputId": "365b57e2-3aed-4c45-9741-dc57c9b2733b",
        "id": "9c0l349TYMyc"
      },
      "execution_count": null,
      "outputs": [
        {
          "output_type": "execute_result",
          "data": {
            "text/plain": [
              "0.9600105235464351"
            ]
          },
          "metadata": {},
          "execution_count": 21
        }
      ]
    },
    {
      "cell_type": "code",
      "source": [
        "from sklearn.metrics import classification_report\n",
        "print(classification_report(Y_test,y_pred))"
      ],
      "metadata": {
        "colab": {
          "base_uri": "https://localhost:8080/"
        },
        "outputId": "89ad1a4b-b05e-4231-cb2f-2166da43a25b",
        "id": "BaBLtU5rYMye"
      },
      "execution_count": null,
      "outputs": [
        {
          "output_type": "stream",
          "name": "stdout",
          "text": [
            "              precision    recall  f1-score   support\n",
            "\n",
            "           0       0.96      1.00      0.98     14602\n",
            "           1       0.00      0.00      0.00       602\n",
            "\n",
            "    accuracy                           0.96     15204\n",
            "   macro avg       0.48      0.50      0.49     15204\n",
            "weighted avg       0.92      0.96      0.94     15204\n",
            "\n"
          ]
        }
      ]
    },
    {
      "cell_type": "markdown",
      "source": [
        "# 3.4 Training a Tuned Logistic Regression Model with Upsampling using SMOTE\n",
        "Train tuned Logistic Regression model with following configurations and evaluate it on the validation set and print precision, recall, classification_report and ROC_AUC at the end.\n",
        "\n",
        "\n",
        "\n",
        "```\n",
        "logreg_tuned_upsampled = LogisticRegression(max_iter=50000,class_weight='balanced',C=100,\n",
        "                                         fit_intercept=True, penalty='l2',solver='newton-cg')\n",
        "```\n",
        "\n",
        "SMOTE stands for Synthetic Minority Oversampling Technique.\n",
        "\n",
        "SMOTE first selects a minority class instance a at random and finds its k nearest minority class neighbors. The synthetic instance is then created by choosing one of the k nearest neighbors b at random and connecting a and b to form a line segment in the feature space. The synthetic instances are generated as a convex combination of the two chosen instances a and b\n",
        "\n",
        "Credits : https://machinelearningmastery.com/smote-oversampling-for-imbalanced-classification/\n",
        "\n",
        "Important: Please umsample the data before training this model.\n"
      ],
      "metadata": {
        "id": "pl6Wnv3h-7Hp"
      }
    },
    {
      "cell_type": "code",
      "source": [
        "# Your code here\n",
        "sm = SMOTE(random_state=1)\n",
        "X_res , Y_res = sm.fit_resample(X_train,Y_train)\n",
        "ltu= LogisticRegression(max_iter=50000,class_weight='balanced',C=100,\n",
        "                                         fit_intercept=True, penalty='l2',solver='newton-cg',verbose=2)\n",
        "ltu.fit(X_res,Y_res)\n"
      ],
      "metadata": {
        "id": "XSBQKXwC_QRV",
        "colab": {
          "base_uri": "https://localhost:8080/"
        },
        "outputId": "9a62ff91-155f-42a4-e3e1-9ff330d76d6b"
      },
      "execution_count": null,
      "outputs": [
        {
          "output_type": "stream",
          "name": "stderr",
          "text": [
            "[Parallel(n_jobs=1)]: Using backend SequentialBackend with 1 concurrent workers.\n",
            "[Parallel(n_jobs=1)]: Done   1 out of   1 | elapsed: 20.2min remaining:    0.0s\n",
            "[Parallel(n_jobs=1)]: Done   1 out of   1 | elapsed: 20.2min finished\n"
          ]
        },
        {
          "output_type": "execute_result",
          "data": {
            "text/plain": [
              "LogisticRegression(C=100, class_weight='balanced', max_iter=50000,\n",
              "                   solver='newton-cg', verbose=2)"
            ]
          },
          "metadata": {},
          "execution_count": 36
        }
      ]
    },
    {
      "cell_type": "code",
      "source": [
        "y_pred_ltu = ltu.predict(X_test)\n",
        "acc = accuracy_score(Y_test,y_pred_ltu)\n",
        "acc"
      ],
      "metadata": {
        "colab": {
          "base_uri": "https://localhost:8080/"
        },
        "outputId": "afb3c10a-7017-4f74-eb96-f54d8df40427",
        "id": "UjpVg9pOb0HU"
      },
      "execution_count": null,
      "outputs": [
        {
          "output_type": "execute_result",
          "data": {
            "text/plain": [
              "0.7122467771639043"
            ]
          },
          "metadata": {},
          "execution_count": 58
        }
      ]
    },
    {
      "cell_type": "code",
      "source": [
        "from sklearn.metrics import classification_report\n",
        "print(classification_report(Y_test,y_pred_ltu))"
      ],
      "metadata": {
        "colab": {
          "base_uri": "https://localhost:8080/"
        },
        "outputId": "346e0afe-c63a-4b8e-e317-67e67ffbe4e1",
        "id": "IX1Ohlcub0HW"
      },
      "execution_count": null,
      "outputs": [
        {
          "output_type": "stream",
          "name": "stdout",
          "text": [
            "              precision    recall  f1-score   support\n",
            "\n",
            "           0       0.98      0.71      0.83     14602\n",
            "           1       0.09      0.69      0.16       602\n",
            "\n",
            "    accuracy                           0.71     15204\n",
            "   macro avg       0.54      0.70      0.49     15204\n",
            "weighted avg       0.95      0.71      0.80     15204\n",
            "\n"
          ]
        }
      ]
    },
    {
      "cell_type": "markdown",
      "source": [
        "# 3.5 Training a Tuned Logistic Regression Model with Class Weights\n",
        "Train tuned Logistic Regression model with following configurations and evaluate it on the validation set and print precision, recall, classification_report and ROC_AUC at the end.\n",
        "\n",
        "\n",
        "\n",
        "```\n",
        "log_tuned_class_weight = LogisticRegression(max_iter=50000,class_weight={0:1,1:25},C=100,fit_intercept=True,\n",
        "                               penalty='l2',solver='newton-cg')\n",
        "```\n",
        "\n"
      ],
      "metadata": {
        "id": "fhQYbWJrAetS"
      }
    },
    {
      "cell_type": "code",
      "source": [
        "# Your code here\n",
        "sm = SMOTE(random_state=1)\n",
        "X_res , Y_res = sm.fit_resample(X_train,Y_train)\n",
        "\n",
        "log_tuned_class_weight = LogisticRegression(max_iter=50000,class_weight={0:1,1:25},C=100,fit_intercept=True,\n",
        "                               penalty='l2',solver='newton-cg')\n",
        "log_tuned_class_weight.fit(X_res,Y_res)"
      ],
      "metadata": {
        "id": "rAzyS-o3Azt3",
        "colab": {
          "base_uri": "https://localhost:8080/"
        },
        "outputId": "2d83101e-bb69-41a1-a7bc-bce706db213a"
      },
      "execution_count": null,
      "outputs": [
        {
          "output_type": "execute_result",
          "data": {
            "text/plain": [
              "LogisticRegression(C=100, class_weight={0: 1, 1: 25}, max_iter=50000,\n",
              "                   solver='newton-cg')"
            ]
          },
          "metadata": {},
          "execution_count": 40
        }
      ]
    },
    {
      "cell_type": "code",
      "source": [
        "y_pred_log_tuned_class_weight = log_tuned_class_weight.predict(X_test)\n",
        "acc = accuracy_score(Y_test,y_pred_log_tuned_class_weight)\n",
        "acc"
      ],
      "metadata": {
        "colab": {
          "base_uri": "https://localhost:8080/"
        },
        "id": "_BCrgoTpMOqo",
        "outputId": "6bbb5dbf-99a3-42ff-93a6-b3d045687bec"
      },
      "execution_count": null,
      "outputs": [
        {
          "output_type": "execute_result",
          "data": {
            "text/plain": [
              "0.08649039726387793"
            ]
          },
          "metadata": {},
          "execution_count": 59
        }
      ]
    },
    {
      "cell_type": "code",
      "source": [
        "from sklearn.metrics import classification_report\n",
        "print(classification_report(Y_test,y_pred_log_tuned_class_weight))"
      ],
      "metadata": {
        "colab": {
          "base_uri": "https://localhost:8080/"
        },
        "id": "IFxW3vyUMOYv",
        "outputId": "79d27825-9fce-41b9-e7d1-7427512fcf18"
      },
      "execution_count": null,
      "outputs": [
        {
          "output_type": "stream",
          "name": "stdout",
          "text": [
            "              precision    recall  f1-score   support\n",
            "\n",
            "           0       1.00      0.05      0.09     14602\n",
            "           1       0.04      1.00      0.08       602\n",
            "\n",
            "    accuracy                           0.09     15204\n",
            "   macro avg       0.52      0.52      0.09     15204\n",
            "weighted avg       0.96      0.09      0.09     15204\n",
            "\n"
          ]
        }
      ]
    },
    {
      "cell_type": "markdown",
      "source": [
        "# 3.6 Training a Tuned Random Forest Model with Class Weights\n",
        "Train Random Forest Classifier model with following configurations and evaluate it on the validation set and print precision, recall, classification_report and ROC_AUC at the end.\n",
        "\n",
        "\n",
        "```\n",
        "rfc_tuned = RandomForestClassifier(random_state=1, n_jobs=-1, class_weight={0:1, 1:25}, criterion='gini', max_depth= 6, min_samples_split= 12, n_estimators= 400, warm_start=True)\n",
        "\n",
        "```\n",
        "\n"
      ],
      "metadata": {
        "id": "aQbblvnuBuZf"
      }
    },
    {
      "cell_type": "code",
      "source": [
        "# Your code here\n",
        "rfc_tuned = RandomForestClassifier(random_state=1, n_jobs=-1, class_weight={0:1, 1:25}, criterion='gini', max_depth= 6, min_samples_split= 12, n_estimators= 400, warm_start=True)\n",
        "rfc_tuned.fit(X_res,Y_res)\n"
      ],
      "metadata": {
        "id": "rFuQAbscCAVT",
        "colab": {
          "base_uri": "https://localhost:8080/"
        },
        "outputId": "0fd99f1e-98d4-4532-f798-6e2ca8a467ab"
      },
      "execution_count": null,
      "outputs": [
        {
          "output_type": "execute_result",
          "data": {
            "text/plain": [
              "RandomForestClassifier(class_weight={0: 1, 1: 25}, max_depth=6,\n",
              "                       min_samples_split=12, n_estimators=400, n_jobs=-1,\n",
              "                       random_state=1, warm_start=True)"
            ]
          },
          "metadata": {},
          "execution_count": 43
        }
      ]
    },
    {
      "cell_type": "code",
      "source": [
        "y_pred_rfc = rfc_tuned.predict(X_test)\n",
        "acc = accuracy_score(Y_test,y_pred_rfc)\n",
        "acc"
      ],
      "metadata": {
        "colab": {
          "base_uri": "https://localhost:8080/"
        },
        "id": "80K-ub6aMdNn",
        "outputId": "c7ee7b88-4709-410f-c4b8-38e9a374d86e"
      },
      "execution_count": null,
      "outputs": [
        {
          "output_type": "execute_result",
          "data": {
            "text/plain": [
              "0.1882399368587214"
            ]
          },
          "metadata": {},
          "execution_count": 61
        }
      ]
    },
    {
      "cell_type": "code",
      "source": [
        "from sklearn.metrics import classification_report\n",
        "print(classification_report(Y_test,y_pred_rfc))"
      ],
      "metadata": {
        "colab": {
          "base_uri": "https://localhost:8080/"
        },
        "id": "m17R-FBNMdNw",
        "outputId": "cf2be639-c984-4578-ef29-9a1349246c72"
      },
      "execution_count": null,
      "outputs": [
        {
          "output_type": "stream",
          "name": "stdout",
          "text": [
            "              precision    recall  f1-score   support\n",
            "\n",
            "           0       1.00      0.15      0.27     14602\n",
            "           1       0.05      1.00      0.09       602\n",
            "\n",
            "    accuracy                           0.19     15204\n",
            "   macro avg       0.52      0.57      0.18     15204\n",
            "weighted avg       0.96      0.19      0.26     15204\n",
            "\n"
          ]
        }
      ]
    },
    {
      "cell_type": "markdown",
      "source": [
        "# 3.5 Training a Tuned XGBoost Classifier Model with Class Weights\n",
        "Train XGBoost Classifier model with following configurations and evaluate it on the validation set and print precision, recall, classification_report and ROC_AUC at the end.\n",
        "\n",
        "\n",
        "\n",
        "```\n",
        "# Lets train the XGBoost with best hyper parameters\n",
        "# based on scoring='Recall'\n",
        "# {'booster': 'dart', 'eta': 0.01, 'max_depth': 2, 'n_estimators': 150}\n",
        "# These are the best parameters we got\n",
        "```\n",
        "\n",
        "\n",
        "\n",
        "```\n",
        "xgb_tuned = XGBClassifier(scale_pos_weight = 25, eval_metric = 'logloss', seed =0, \n",
        "               objective='binary:logistic', \n",
        "              nthreads=-1, early_stopping_rounds=15, booster='dart', scoring='Recall',\n",
        "              eta=0.01, max_depth=2, n_estimators=150)\n",
        "```\n",
        "\n"
      ],
      "metadata": {
        "id": "qbWGghMqCa7C"
      }
    },
    {
      "cell_type": "code",
      "source": [
        "# Your code here\n",
        "xgb_tuned = XGBClassifier(scale_pos_weight = 25, eval_metric = 'logloss', seed =0, \n",
        "               objective='binary:logistic', \n",
        "              nthreads=-1, early_stopping_rounds=15, booster='dart', scoring='Recall',\n",
        "              eta=0.01, max_depth=2, n_estimators=150)\n",
        "\n",
        "\n",
        "xgb_tuned.fit(X_res,Y_res)"
      ],
      "metadata": {
        "id": "87KYFu5WDBZi",
        "colab": {
          "base_uri": "https://localhost:8080/"
        },
        "outputId": "e1fe4d5b-6767-4ebc-a4c3-049f84b5dbb6"
      },
      "execution_count": null,
      "outputs": [
        {
          "output_type": "execute_result",
          "data": {
            "text/plain": [
              "XGBClassifier(booster='dart', early_stopping_rounds=15, eta=0.01,\n",
              "              eval_metric='logloss', max_depth=2, n_estimators=150, nthreads=-1,\n",
              "              scale_pos_weight=25, scoring='Recall', seed=0)"
            ]
          },
          "metadata": {},
          "execution_count": 46
        }
      ]
    },
    {
      "cell_type": "code",
      "source": [
        "y_pred_xgb = xgb_tuned.predict(X_test)\n",
        "acc = accuracy_score(Y_test,y_pred_xgb)\n",
        "acc"
      ],
      "metadata": {
        "colab": {
          "base_uri": "https://localhost:8080/"
        },
        "id": "y_KwwjBhMyqV",
        "outputId": "8aa7d40d-9ddc-4e39-82cd-15b1fb9b56fe"
      },
      "execution_count": null,
      "outputs": [
        {
          "output_type": "execute_result",
          "data": {
            "text/plain": [
              "0.44277821625887925"
            ]
          },
          "metadata": {},
          "execution_count": 63
        }
      ]
    },
    {
      "cell_type": "code",
      "source": [
        "from sklearn.metrics import classification_report\n",
        "print(classification_report(Y_test,y_pred_xgb))"
      ],
      "metadata": {
        "colab": {
          "base_uri": "https://localhost:8080/"
        },
        "id": "Wg-I2PZxMyqX",
        "outputId": "17ddb5cb-3fc2-4d1b-915f-8305434526b4"
      },
      "execution_count": null,
      "outputs": [
        {
          "output_type": "stream",
          "name": "stdout",
          "text": [
            "              precision    recall  f1-score   support\n",
            "\n",
            "           0       0.99      0.42      0.59     14602\n",
            "           1       0.06      0.94      0.12       602\n",
            "\n",
            "    accuracy                           0.44     15204\n",
            "   macro avg       0.53      0.68      0.36     15204\n",
            "weighted avg       0.96      0.44      0.57     15204\n",
            "\n"
          ]
        }
      ]
    },
    {
      "cell_type": "markdown",
      "source": [
        "# **4. Plot the ROC-AUC Curves of all the models**"
      ],
      "metadata": {
        "id": "hxjNDTyzDDXm"
      }
    },
    {
      "cell_type": "code",
      "source": [
        "# Your code here\n",
        "roc_ltu = roc_auc_score(Y_test,y_pred_ltu)\n",
        "print(\"roc_auc_score  Tuned Logistic Regression Model with Upsampling using SMOTE :  \",roc_ltu)\n",
        "\n",
        "roc_log_tuned_class_weight = roc_auc_score(Y_test,y_pred_log_tuned_class_weight)\n",
        "print(\"roc_auc_score of Tuned Logistic Regression Model with Class Weights :  \",roc_log_tuned_class_weight)\n",
        "\n",
        "roc_rfc = roc_auc_score(Y_test,y_pred_rfc)\n",
        "print(\"roc_auc_score Tuned Random Forest Model with Class Weights :  \",roc_rfc)\n",
        "\n",
        "roc_rgb = roc_auc_score(Y_test,y_pred_xgb)\n",
        "print(\"roc_auc_score Tuned XGBoost Classifier Model with Class Weights :  \",roc_rgb)"
      ],
      "metadata": {
        "id": "AM1_0TQhDJhp",
        "colab": {
          "base_uri": "https://localhost:8080/"
        },
        "outputId": "648212d8-1470-4628-a29b-af292d0d9b8a"
      },
      "execution_count": null,
      "outputs": [
        {
          "output_type": "stream",
          "name": "stdout",
          "text": [
            "roc_auc_score  Tuned Logistic Regression Model with Upsampling using SMOTE :   0.7020756952695235\n",
            "roc_auc_score of Tuned Logistic Regression Model with Class Weights :   0.5220254950739466\n",
            "roc_auc_score Tuned Random Forest Model with Class Weights :   0.5749976906635917\n",
            "roc_auc_score Tuned XGBoost Classifier Model with Class Weights :   0.6828277744686138\n"
          ]
        }
      ]
    },
    {
      "cell_type": "markdown",
      "source": [
        "**Conclusion**\n",
        "\n",
        "XGB is better among these because its accuracy is better and ROC to. :)"
      ],
      "metadata": {
        "id": "Us8XkDlADPL0"
      }
    }
  ]
}